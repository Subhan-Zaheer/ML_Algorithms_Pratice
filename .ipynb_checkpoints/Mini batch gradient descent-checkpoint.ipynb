{
 "cells": [
  {
   "cell_type": "code",
   "execution_count": 1,
   "id": "2aab1eaa",
   "metadata": {},
   "outputs": [],
   "source": [
    "import numpy as np\n",
    "from sklearn.datasets import load_diabetes\n",
    "from sklearn.model_selection import train_test_split\n",
    "from sklearn.metrics import r2_score\n",
    "import time \n",
    "import random"
   ]
  },
  {
   "cell_type": "code",
   "execution_count": 2,
   "id": "d2da8bcf",
   "metadata": {},
   "outputs": [],
   "source": [
    "X,y = load_diabetes(return_X_y = True)"
   ]
  },
  {
   "cell_type": "code",
   "execution_count": 3,
   "id": "a82a13df",
   "metadata": {},
   "outputs": [],
   "source": [
    "from sklearn.linear_model import LinearRegression"
   ]
  },
  {
   "cell_type": "code",
   "execution_count": 4,
   "id": "916b62e5",
   "metadata": {},
   "outputs": [],
   "source": [
    "lr = LinearRegression()"
   ]
  },
  {
   "cell_type": "code",
   "execution_count": 5,
   "id": "2cc72918",
   "metadata": {},
   "outputs": [],
   "source": [
    "X_train, X_test, y_train, y_test = train_test_split(X, y, test_size=0.2, random_state=2)"
   ]
  },
  {
   "cell_type": "code",
   "execution_count": 6,
   "id": "d1618e6a",
   "metadata": {},
   "outputs": [
    {
     "data": {
      "text/plain": [
       "LinearRegression()"
      ]
     },
     "execution_count": 6,
     "metadata": {},
     "output_type": "execute_result"
    }
   ],
   "source": [
    "lr.fit(X_train, y_train)"
   ]
  },
  {
   "cell_type": "code",
   "execution_count": 7,
   "id": "28109aa4",
   "metadata": {},
   "outputs": [],
   "source": [
    "y_pred = lr.predict(X_test)"
   ]
  },
  {
   "cell_type": "code",
   "execution_count": 8,
   "id": "e71fad1e",
   "metadata": {},
   "outputs": [
    {
     "data": {
      "text/plain": [
       "0.4399387660024645"
      ]
     },
     "execution_count": 8,
     "metadata": {},
     "output_type": "execute_result"
    }
   ],
   "source": [
    "r2_score(y_test, y_pred)"
   ]
  },
  {
   "cell_type": "code",
   "execution_count": 9,
   "id": "ffa753ed",
   "metadata": {},
   "outputs": [
    {
     "data": {
      "text/plain": [
       "array([  -9.16088483, -205.46225988,  516.68462383,  340.62734108,\n",
       "       -895.54360867,  561.21453306,  153.88478595,  126.73431596,\n",
       "        861.12139955,   52.41982836])"
      ]
     },
     "execution_count": 9,
     "metadata": {},
     "output_type": "execute_result"
    }
   ],
   "source": [
    "lr.coef_"
   ]
  },
  {
   "cell_type": "code",
   "execution_count": 10,
   "id": "ab5b3d7a",
   "metadata": {},
   "outputs": [
    {
     "data": {
      "text/plain": [
       "151.88334520854633"
      ]
     },
     "execution_count": 10,
     "metadata": {},
     "output_type": "execute_result"
    }
   ],
   "source": [
    "lr.intercept_"
   ]
  },
  {
   "cell_type": "markdown",
   "id": "e67ea5da",
   "metadata": {},
   "source": [
    "## Making our own Mini Batch Gradient Descent class"
   ]
  },
  {
   "cell_type": "code",
   "execution_count": 11,
   "id": "148e44ef",
   "metadata": {},
   "outputs": [],
   "source": [
    "class mine_MBGD:\n",
    "    \n",
    "    \n",
    "    def __init__(self, epochs, learning_rate, batch_size):\n",
    "        \n",
    "        self.epochs = epochs\n",
    "        self.lr = learning_rate\n",
    "        self.coef_ = None\n",
    "        self.intercept_ = None\n",
    "        self.batch_size = batch_size\n",
    "        pass\n",
    "    \n",
    "    def fit(self,X_train, y_train):\n",
    "        self.intercept_ = 0\n",
    "        self.coef_ = np.ones(X_train.shape[1])\n",
    "        print(self.intercept_, self.coef_)\n",
    "        for i in range(self.epochs):\n",
    "            for j in range(int(X_train.shape[0]/self.batch_size)):\n",
    "                idx = random.sample(range(X_train.shape[0]), 10)\n",
    "                y_pred = np.dot(X_train[idx], self.coef_) + self.intercept_ \n",
    "    #             print(f\"Shape of y predictions is : {y_pred.shape}\")\n",
    "                intercept_der = -2 * np.mean(y_train[idx] - y_pred)\n",
    "                self.intercept_ = self.intercept_ - (self.lr * intercept_der)\n",
    "\n",
    "                coef_der = -2 * np.dot((y_train[idx] - y_pred), X_train[idx])\n",
    "    #             print(coef_der.shape)\n",
    "                self. coef_ = self.coef_ - (self.lr * coef_der)\n",
    "        print(self.intercept_, self.coef_)\n",
    "\n",
    "        pass\n",
    "    \n",
    "    def predict(self,X_test):\n",
    "        return np.dot(X_test, self.coef_) + self.intercept_"
   ]
  },
  {
   "cell_type": "code",
   "execution_count": 25,
   "id": "77469adf",
   "metadata": {},
   "outputs": [],
   "source": [
    "mgd = mine_MBGD(epochs=50, learning_rate=0.01, batch_size=10)"
   ]
  },
  {
   "cell_type": "code",
   "execution_count": 26,
   "id": "f9953068",
   "metadata": {},
   "outputs": [
    {
     "name": "stdout",
     "output_type": "stream",
     "text": [
      "0 [1. 1. 1. 1. 1. 1. 1. 1. 1. 1.]\n",
      "152.96904475108738 [  54.94505522  -76.48791018  360.9150223   254.14987764   17.0126548\n",
      "  -31.48580625 -175.61813385  129.10288585  328.14364194  127.90212524]\n"
     ]
    }
   ],
   "source": [
    "mgd.fit(X_train, y_train)"
   ]
  },
  {
   "cell_type": "code",
   "execution_count": 27,
   "id": "0c30c929",
   "metadata": {},
   "outputs": [],
   "source": [
    "y_pred = mgd.predict(X_test)"
   ]
  },
  {
   "cell_type": "code",
   "execution_count": 28,
   "id": "51f7e17a",
   "metadata": {},
   "outputs": [
    {
     "data": {
      "text/plain": [
       "0.4365934709031074"
      ]
     },
     "execution_count": 28,
     "metadata": {},
     "output_type": "execute_result"
    }
   ],
   "source": [
    "r2_score(y_test, y_pred)"
   ]
  },
  {
   "cell_type": "code",
   "execution_count": 12,
   "id": "cd2aa3d0",
   "metadata": {},
   "outputs": [
    {
     "data": {
      "text/plain": [
       "[175, 211, 270, 174, 177, 181, 265, 173, 62, 234]"
      ]
     },
     "execution_count": 12,
     "metadata": {},
     "output_type": "execute_result"
    }
   ],
   "source": [
    "random.sample(range(X_train.shape[0]), 10)"
   ]
  },
  {
   "cell_type": "code",
   "execution_count": 13,
   "id": "521e3d42",
   "metadata": {},
   "outputs": [
    {
     "data": {
      "text/plain": [
       "range(0, 353)"
      ]
     },
     "execution_count": 13,
     "metadata": {},
     "output_type": "execute_result"
    }
   ],
   "source": [
    "range(X_train.shape[0])"
   ]
  },
  {
   "cell_type": "code",
   "execution_count": 14,
   "id": "c76f565b",
   "metadata": {},
   "outputs": [
    {
     "data": {
      "text/plain": [
       "array([[ 0.06350368, -0.04464164,  0.01750591,  0.02187235,  0.00806271,\n",
       "         0.02154596, -0.03603757,  0.03430886,  0.01990842,  0.01134862],\n",
       "       [ 0.04170844,  0.05068012, -0.04392938,  0.0631868 , -0.00432087,\n",
       "         0.01622244, -0.01394774, -0.00259226, -0.03452372,  0.01134862],\n",
       "       [-0.06000263, -0.04464164,  0.00133873, -0.02977071, -0.00707277,\n",
       "        -0.02166853,  0.01182372, -0.00259226,  0.03181522, -0.05492509],\n",
       "       [-0.08906294, -0.04464164, -0.01159501, -0.03665645,  0.01219057,\n",
       "         0.02499059, -0.03603757,  0.03430886,  0.02269202, -0.00936191],\n",
       "       [-0.05637009, -0.04464164,  0.09295276, -0.01944209,  0.01494247,\n",
       "         0.02342485, -0.02867429,  0.02545259,  0.02605609,  0.04034337],\n",
       "       [ 0.02354575,  0.05068012, -0.03961813, -0.00567061, -0.04835136,\n",
       "        -0.03325502,  0.01182372, -0.03949338, -0.10164355, -0.06735141],\n",
       "       [-0.06000263,  0.05068012,  0.04984027,  0.01842948, -0.01670444,\n",
       "        -0.03012354, -0.01762938, -0.00259226,  0.04976866, -0.05906719],\n",
       "       [-0.00551455, -0.04464164,  0.02397278,  0.00810087, -0.03459183,\n",
       "        -0.03889169,  0.02286863, -0.03949338, -0.01599827, -0.01350402],\n",
       "       [ 0.06713621,  0.05068012, -0.03099563,  0.004658  ,  0.02457414,\n",
       "         0.03563764, -0.02867429,  0.03430886,  0.02337484,  0.08176444],\n",
       "       [-0.01641217, -0.04464164, -0.05255187, -0.03321358, -0.0442235 ,\n",
       "        -0.03638651,  0.019187  , -0.03949338, -0.06832974, -0.03007245]])"
      ]
     },
     "execution_count": 14,
     "metadata": {},
     "output_type": "execute_result"
    }
   ],
   "source": [
    "X_train[[313, 168, 263, 47, 80, 174, 209, 335, 192, 162]]"
   ]
  },
  {
   "cell_type": "markdown",
   "id": "b07e8b6f",
   "metadata": {},
   "source": [
    "## Now implementing Mini batch gradient descent using SGD Regressor class"
   ]
  },
  {
   "cell_type": "code",
   "execution_count": 29,
   "id": "4b40d333",
   "metadata": {},
   "outputs": [],
   "source": [
    "from sklearn.linear_model import SGDRegressor"
   ]
  },
  {
   "cell_type": "code",
   "execution_count": 54,
   "id": "be8bab74",
   "metadata": {},
   "outputs": [],
   "source": [
    "sgd = SGDRegressor(learning_rate='constant', eta0=0.2)"
   ]
  },
  {
   "cell_type": "code",
   "execution_count": 55,
   "id": "008c0940",
   "metadata": {},
   "outputs": [],
   "source": [
    "batch_size = 35\n",
    "for i in range(100):\n",
    "    idx = random.sample((range(X_train.shape[0])),batch_size)\n",
    "    sgd.partial_fit(X_train[idx], y_train[idx])"
   ]
  },
  {
   "cell_type": "code",
   "execution_count": 56,
   "id": "398972f3",
   "metadata": {},
   "outputs": [
    {
     "data": {
      "text/plain": [
       "array([149.13039311])"
      ]
     },
     "execution_count": 56,
     "metadata": {},
     "output_type": "execute_result"
    }
   ],
   "source": [
    "sgd.intercept_"
   ]
  },
  {
   "cell_type": "code",
   "execution_count": 57,
   "id": "59aa952f",
   "metadata": {},
   "outputs": [
    {
     "data": {
      "text/plain": [
       "array([  40.83912034, -120.58144718,  435.70141528,  303.23183902,\n",
       "         -7.77987422,  -70.10984584, -188.5980617 ,  135.13928287,\n",
       "        410.64392241,  111.8635179 ])"
      ]
     },
     "execution_count": 57,
     "metadata": {},
     "output_type": "execute_result"
    }
   ],
   "source": [
    "sgd.coef_"
   ]
  },
  {
   "cell_type": "code",
   "execution_count": 58,
   "id": "2084e544",
   "metadata": {},
   "outputs": [],
   "source": [
    "y_pred = sgd.predict(X_test)"
   ]
  },
  {
   "cell_type": "code",
   "execution_count": 59,
   "id": "dc385241",
   "metadata": {},
   "outputs": [
    {
     "data": {
      "text/plain": [
       "0.4452075319439883"
      ]
     },
     "execution_count": 59,
     "metadata": {},
     "output_type": "execute_result"
    }
   ],
   "source": [
    "r2_score(y_test, y_pred)"
   ]
  },
  {
   "cell_type": "code",
   "execution_count": 15,
   "id": "74a746a0",
   "metadata": {},
   "outputs": [],
   "source": [
    "def longest_substring(s):\n",
    "    current = 0\n",
    "    next_ = 0\n",
    "    count = 1\n",
    "    max_ = 0\n",
    "    for i in range(len(s)-1):\n",
    "        current = s[i]\n",
    "        next_ = s[i+1]\n",
    "        if current == next_:\n",
    "            count+=1\n",
    "        else:\n",
    "            if count > max_:\n",
    "                max_ = count\n",
    "                count = 1\n",
    "    \n",
    "    return max_\n",
    "    "
   ]
  },
  {
   "cell_type": "code",
   "execution_count": 16,
   "id": "5b6857ef",
   "metadata": {},
   "outputs": [],
   "source": [
    "s = '10011100001'"
   ]
  },
  {
   "cell_type": "code",
   "execution_count": 17,
   "id": "6dd6494b",
   "metadata": {},
   "outputs": [
    {
     "data": {
      "text/plain": [
       "4"
      ]
     },
     "execution_count": 17,
     "metadata": {},
     "output_type": "execute_result"
    }
   ],
   "source": [
    "longest_substring(s)"
   ]
  },
  {
   "cell_type": "code",
   "execution_count": 18,
   "id": "ff77741e",
   "metadata": {},
   "outputs": [],
   "source": [
    "def add_a_number(n):\n",
    "    ls = list(str(n))\n",
    "    sum_ = 0\n",
    "    while len(ls)>1:\n",
    "        for i in ls :\n",
    "            sum_ += int(i)\n",
    "        \n",
    "        ls = list(str(sum_))\n",
    "    \n",
    "    print(ls)\n",
    "    return ls[0]"
   ]
  },
  {
   "cell_type": "code",
   "execution_count": 19,
   "id": "93f57f1d",
   "metadata": {},
   "outputs": [],
   "source": [
    "n = 786"
   ]
  },
  {
   "cell_type": "code",
   "execution_count": null,
   "id": "92db620b",
   "metadata": {},
   "outputs": [],
   "source": [
    "add_a_number(n)"
   ]
  },
  {
   "cell_type": "code",
   "execution_count": null,
   "id": "0825e09e",
   "metadata": {},
   "outputs": [],
   "source": []
  },
  {
   "cell_type": "code",
   "execution_count": null,
   "id": "7e5f18ba",
   "metadata": {},
   "outputs": [],
   "source": []
  }
 ],
 "metadata": {
  "kernelspec": {
   "display_name": "Python 3 (ipykernel)",
   "language": "python",
   "name": "python3"
  },
  "language_info": {
   "codemirror_mode": {
    "name": "ipython",
    "version": 3
   },
   "file_extension": ".py",
   "mimetype": "text/x-python",
   "name": "python",
   "nbconvert_exporter": "python",
   "pygments_lexer": "ipython3",
   "version": "3.9.13"
  }
 },
 "nbformat": 4,
 "nbformat_minor": 5
}
