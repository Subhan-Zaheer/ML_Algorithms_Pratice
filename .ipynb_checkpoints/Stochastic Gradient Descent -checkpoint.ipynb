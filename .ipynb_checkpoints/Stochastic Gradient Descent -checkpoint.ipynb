{
 "cells": [
  {
   "cell_type": "code",
   "execution_count": 1,
   "id": "86dcaf21",
   "metadata": {},
   "outputs": [],
   "source": [
    "import numpy as np\n",
    "from sklearn.datasets import load_diabetes\n",
    "from sklearn.model_selection import train_test_split\n",
    "from sklearn.metrics import r2_score\n",
    "import time "
   ]
  },
  {
   "cell_type": "code",
   "execution_count": 2,
   "id": "c1b3b703",
   "metadata": {},
   "outputs": [],
   "source": [
    "X,y = load_diabetes(return_X_y = True)"
   ]
  },
  {
   "cell_type": "code",
   "execution_count": 3,
   "id": "3f70e542",
   "metadata": {},
   "outputs": [],
   "source": [
    "from sklearn.linear_model import LinearRegression"
   ]
  },
  {
   "cell_type": "code",
   "execution_count": 4,
   "id": "77cc550b",
   "metadata": {},
   "outputs": [],
   "source": [
    "lr = LinearRegression()"
   ]
  },
  {
   "cell_type": "code",
   "execution_count": 5,
   "id": "1af6413a",
   "metadata": {},
   "outputs": [],
   "source": [
    "X_train, X_test, y_train, y_test = train_test_split(X, y, test_size=0.2, random_state=2)"
   ]
  },
  {
   "cell_type": "code",
   "execution_count": 6,
   "id": "bd029b0e",
   "metadata": {},
   "outputs": [
    {
     "data": {
      "text/plain": [
       "LinearRegression()"
      ]
     },
     "execution_count": 6,
     "metadata": {},
     "output_type": "execute_result"
    }
   ],
   "source": [
    "lr.fit(X_train, y_train)"
   ]
  },
  {
   "cell_type": "code",
   "execution_count": 7,
   "id": "2d05f25a",
   "metadata": {},
   "outputs": [],
   "source": [
    "y_pred = lr.predict(X_test)"
   ]
  },
  {
   "cell_type": "code",
   "execution_count": 8,
   "id": "ab04345d",
   "metadata": {},
   "outputs": [
    {
     "data": {
      "text/plain": [
       "0.4399387660024645"
      ]
     },
     "execution_count": 8,
     "metadata": {},
     "output_type": "execute_result"
    }
   ],
   "source": [
    "r2_score(y_test, y_pred)"
   ]
  },
  {
   "cell_type": "code",
   "execution_count": 9,
   "id": "fec7d6c9",
   "metadata": {},
   "outputs": [
    {
     "data": {
      "text/plain": [
       "array([  -9.16088483, -205.46225988,  516.68462383,  340.62734108,\n",
       "       -895.54360867,  561.21453306,  153.88478595,  126.73431596,\n",
       "        861.12139955,   52.41982836])"
      ]
     },
     "execution_count": 9,
     "metadata": {},
     "output_type": "execute_result"
    }
   ],
   "source": [
    "lr.coef_"
   ]
  },
  {
   "cell_type": "code",
   "execution_count": 10,
   "id": "8d7d12a2",
   "metadata": {},
   "outputs": [
    {
     "data": {
      "text/plain": [
       "151.88334520854633"
      ]
     },
     "execution_count": 10,
     "metadata": {},
     "output_type": "execute_result"
    }
   ],
   "source": [
    "lr.intercept_"
   ]
  },
  {
   "cell_type": "markdown",
   "id": "24b93b97",
   "metadata": {},
   "source": [
    "## Now making our own class"
   ]
  },
  {
   "cell_type": "code",
   "execution_count": 11,
   "id": "acdf49cf",
   "metadata": {},
   "outputs": [],
   "source": [
    "class mine_SGD:\n",
    "    \n",
    "    \n",
    "    def __init__(self, epochs, t0, t1):\n",
    "        \n",
    "        self.epochs = epochs\n",
    "        self.lr = None\n",
    "        self.coef_ = None\n",
    "        self.intercept_ = None\n",
    "        self.t0 = t0\n",
    "        self.t1 = t1\n",
    "        pass\n",
    "\n",
    "    def learning_rate(self,t):\n",
    "        return self.t0/(t+self.t1)\n",
    "    \n",
    "    \n",
    "    def fit(self,X_train, y_train):\n",
    "        \n",
    "        self.intercept_ = 0\n",
    "        self.coef_ = np.ones(X_train.shape[1])\n",
    "        print(self.intercept_, self.coef_)\n",
    "        \n",
    "        for i in range(self.epochs):\n",
    "            for j in range(X_train.shape[0]):\n",
    "                self.lr = self.learning_rate(i * X_train.shape[0] + j)\n",
    "#                 print(f\"Learning rate is {self.lr}\")\n",
    "                idx = np.random.randint(0, X_train.shape[0])\n",
    "                y_pred = np.dot(X_train[idx], self.coef_) + self.intercept_\n",
    "                intercept_der = -2 * (y_train[idx] - y_pred)\n",
    "                self.intercept_ = self.intercept_ - (self.lr * intercept_der)\n",
    "                \n",
    "                coef_der = -2 * np.dot((y_train[idx] - y_pred), X_train[idx])\n",
    "                self. coef_ = self.coef_ - (self.lr * coef_der)\n",
    "                \n",
    "        print(self.intercept_, self.coef_)\n",
    "        pass\n",
    "    \n",
    "    def predict(self,X_test):\n",
    "        return np.dot(X_test, self.coef_) + self.intercept_"
   ]
  },
  {
   "cell_type": "code",
   "execution_count": 12,
   "id": "1a53964f",
   "metadata": {},
   "outputs": [],
   "source": [
    "SGD_class = mine_SGD(100, 5, 50)"
   ]
  },
  {
   "cell_type": "code",
   "execution_count": 13,
   "id": "497df671",
   "metadata": {},
   "outputs": [
    {
     "name": "stdout",
     "output_type": "stream",
     "text": [
      "0 [1. 1. 1. 1. 1. 1. 1. 1. 1. 1.]\n",
      "150.5114070667604 [ 42.28290199   3.75722417 123.03267528  93.53119865  31.33938608\n",
      "  20.79321865 -75.9898893   75.6371866  117.16129787  65.56148831]\n",
      "Time taken is : 1.448333978652954\n"
     ]
    }
   ],
   "source": [
    "start = time.time()\n",
    "SGD_class.fit(X_train, y_train)\n",
    "print(f\"Time taken is : {time.time() - start}\")"
   ]
  },
  {
   "cell_type": "code",
   "execution_count": 14,
   "id": "a68f21e3",
   "metadata": {},
   "outputs": [],
   "source": [
    "new_y_pred = SGD_class.predict(X_test)"
   ]
  },
  {
   "cell_type": "code",
   "execution_count": 19,
   "id": "f5affe5b",
   "metadata": {},
   "outputs": [
    {
     "data": {
      "text/plain": [
       "0.2628720436262296"
      ]
     },
     "execution_count": 19,
     "metadata": {},
     "output_type": "execute_result"
    }
   ],
   "source": [
    "r2_score(y_test, new_y_pred)"
   ]
  },
  {
   "cell_type": "markdown",
   "id": "a60960cb",
   "metadata": {},
   "source": [
    "## Now importing built-in class of python"
   ]
  },
  {
   "cell_type": "code",
   "execution_count": 20,
   "id": "8762f413",
   "metadata": {},
   "outputs": [],
   "source": [
    "from sklearn.linear_model import SGDRegressor"
   ]
  },
  {
   "cell_type": "code",
   "execution_count": 21,
   "id": "180d4c8b",
   "metadata": {},
   "outputs": [],
   "source": [
    "sgd = SGDRegressor(max_iter=50, learning_rate='constant', eta0= 0.1)"
   ]
  },
  {
   "cell_type": "code",
   "execution_count": 22,
   "id": "49a10c44",
   "metadata": {},
   "outputs": [
    {
     "data": {
      "text/plain": [
       "SGDRegressor(eta0=0.1, learning_rate='constant', max_iter=50)"
      ]
     },
     "execution_count": 22,
     "metadata": {},
     "output_type": "execute_result"
    }
   ],
   "source": [
    "sgd.fit(X_train, y_train)"
   ]
  },
  {
   "cell_type": "code",
   "execution_count": 23,
   "id": "9ad9328c",
   "metadata": {},
   "outputs": [],
   "source": [
    "y_pred = sgd.predict(X_test)"
   ]
  },
  {
   "cell_type": "code",
   "execution_count": 24,
   "id": "d676df38",
   "metadata": {},
   "outputs": [
    {
     "data": {
      "text/plain": [
       "0.4388546762618223"
      ]
     },
     "execution_count": 24,
     "metadata": {},
     "output_type": "execute_result"
    }
   ],
   "source": [
    "r2_score(y_test, y_pred)"
   ]
  },
  {
   "cell_type": "code",
   "execution_count": null,
   "id": "befbb4e5",
   "metadata": {},
   "outputs": [],
   "source": []
  },
  {
   "cell_type": "code",
   "execution_count": null,
   "id": "150cfcc9",
   "metadata": {},
   "outputs": [],
   "source": []
  }
 ],
 "metadata": {
  "kernelspec": {
   "display_name": "Python 3 (ipykernel)",
   "language": "python",
   "name": "python3"
  },
  "language_info": {
   "codemirror_mode": {
    "name": "ipython",
    "version": 3
   },
   "file_extension": ".py",
   "mimetype": "text/x-python",
   "name": "python",
   "nbconvert_exporter": "python",
   "pygments_lexer": "ipython3",
   "version": "3.9.13"
  }
 },
 "nbformat": 4,
 "nbformat_minor": 5
}
