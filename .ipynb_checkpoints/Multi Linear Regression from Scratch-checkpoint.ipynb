{
 "cells": [
  {
   "cell_type": "code",
   "execution_count": 1,
   "id": "03eae1b7",
   "metadata": {},
   "outputs": [],
   "source": [
    "import numpy as np\n",
    "import pandas as pd\n",
    "import matplotlib.pyplot as plt\n",
    "from sklearn.datasets import load_diabetes"
   ]
  },
  {
   "cell_type": "code",
   "execution_count": 2,
   "id": "da5f559f",
   "metadata": {},
   "outputs": [],
   "source": [
    "X, y = load_diabetes(return_X_y= True)"
   ]
  },
  {
   "cell_type": "code",
   "execution_count": 3,
   "id": "0a619cbe",
   "metadata": {},
   "outputs": [
    {
     "data": {
      "text/plain": [
       "(442, 10)"
      ]
     },
     "execution_count": 3,
     "metadata": {},
     "output_type": "execute_result"
    }
   ],
   "source": [
    "X.shape"
   ]
  },
  {
   "cell_type": "code",
   "execution_count": 4,
   "id": "e33b5845",
   "metadata": {},
   "outputs": [
    {
     "data": {
      "text/plain": [
       "(442,)"
      ]
     },
     "execution_count": 4,
     "metadata": {},
     "output_type": "execute_result"
    }
   ],
   "source": [
    "y.shape"
   ]
  },
  {
   "cell_type": "code",
   "execution_count": 5,
   "id": "8d29b4e7",
   "metadata": {},
   "outputs": [],
   "source": [
    "from sklearn.model_selection import train_test_split\n",
    "from sklearn.linear_model import LinearRegression\n",
    "from sklearn.metrics import r2_score"
   ]
  },
  {
   "cell_type": "code",
   "execution_count": 6,
   "id": "ba46dea2",
   "metadata": {},
   "outputs": [],
   "source": [
    "X_train, X_test, y_train, y_test = train_test_split(X, y, test_size=0.2, random_state=3)"
   ]
  },
  {
   "cell_type": "code",
   "execution_count": 7,
   "id": "9779469b",
   "metadata": {},
   "outputs": [
    {
     "data": {
      "text/plain": [
       "(353, 10)"
      ]
     },
     "execution_count": 7,
     "metadata": {},
     "output_type": "execute_result"
    }
   ],
   "source": [
    "X_train.shape"
   ]
  },
  {
   "cell_type": "code",
   "execution_count": 8,
   "id": "2dc86302",
   "metadata": {},
   "outputs": [
    {
     "data": {
      "text/plain": [
       "(89, 10)"
      ]
     },
     "execution_count": 8,
     "metadata": {},
     "output_type": "execute_result"
    }
   ],
   "source": [
    "X_test.shape"
   ]
  },
  {
   "cell_type": "code",
   "execution_count": 9,
   "id": "4e62732f",
   "metadata": {},
   "outputs": [],
   "source": [
    "lr = LinearRegression()"
   ]
  },
  {
   "cell_type": "code",
   "execution_count": 10,
   "id": "29bd7696",
   "metadata": {},
   "outputs": [
    {
     "data": {
      "text/plain": [
       "LinearRegression()"
      ]
     },
     "execution_count": 10,
     "metadata": {},
     "output_type": "execute_result"
    }
   ],
   "source": [
    "lr.fit(X_train, y_train)"
   ]
  },
  {
   "cell_type": "code",
   "execution_count": 11,
   "id": "53f2fe19",
   "metadata": {},
   "outputs": [],
   "source": [
    "y_pred = lr.predict(X_test)"
   ]
  },
  {
   "cell_type": "code",
   "execution_count": 12,
   "id": "929f240e",
   "metadata": {},
   "outputs": [
    {
     "data": {
      "text/plain": [
       "array([ 99.4834095 , 181.25429721, 106.61431616, 123.1084059 ,\n",
       "       183.05038517,  83.29680612, 130.54751219, 233.86057159,\n",
       "       155.0085593 , 171.46696055, 171.05901245, 192.94094663,\n",
       "       147.25200872, 214.52866527,  47.50370216, 142.43684395,\n",
       "       119.95869503, 209.72088617, 185.71280845, 147.23588853,\n",
       "       150.40633014, 102.59740218, 170.78554105, 177.81958907,\n",
       "       152.40493279, 187.08633258, 197.72479677, 204.8353808 ,\n",
       "       132.09712519, 158.416677  , 260.5473568 , 125.48207708,\n",
       "       195.29128851, 125.76629795, 163.21625339,  58.38029303,\n",
       "       158.14598048, 103.40294882, 128.05213127, 161.31927091,\n",
       "       145.99859043, 219.57661417, 126.63371851, 131.12082959,\n",
       "       150.16373512,  92.34221328, 120.101975  , 261.33738467,\n",
       "       150.2225624 , 197.8279935 , 145.9729581 , 104.56016601,\n",
       "       139.47254208, 192.90199936, 159.23239443, 135.2186342 ,\n",
       "       120.30455009, 262.94585718, 255.46513559, 151.24263097,\n",
       "       153.11347639, 128.59296325,  69.02538436, 136.99497851,\n",
       "       131.00369682,  98.58589877,  58.22856044,  89.79743937,\n",
       "        87.14343113, 121.16928194, 208.00374635, 113.1909304 ,\n",
       "       165.82451512, 168.32325066, 228.52374042,  67.47411383,\n",
       "       227.57002432,  75.82174372, 109.85635475, 140.62134509,\n",
       "       241.40073786, 156.81579106, 171.45548297, 255.38380117,\n",
       "       127.00571858,  65.91381736, 125.19983734, 151.72876593,\n",
       "       181.17829854])"
      ]
     },
     "execution_count": 12,
     "metadata": {},
     "output_type": "execute_result"
    }
   ],
   "source": [
    "y_pred"
   ]
  },
  {
   "cell_type": "code",
   "execution_count": 13,
   "id": "8cd93b96",
   "metadata": {},
   "outputs": [
    {
     "name": "stdout",
     "output_type": "stream",
     "text": [
      "R2 Score is 0.416174330392582\n"
     ]
    }
   ],
   "source": [
    "print(f\"R2 Score is {r2_score(y_test, y_pred)}\")"
   ]
  },
  {
   "cell_type": "code",
   "execution_count": 14,
   "id": "3cb397d3",
   "metadata": {},
   "outputs": [
    {
     "data": {
      "text/plain": [
       "array([  -1.14038088, -212.89206427,  540.44935027,  345.2118465 ,\n",
       "       -938.28898069,  516.66033395,  172.87732879,  267.87781462,\n",
       "        732.6600272 ,   70.07479382])"
      ]
     },
     "execution_count": 14,
     "metadata": {},
     "output_type": "execute_result"
    }
   ],
   "source": [
    "lr.coef_"
   ]
  },
  {
   "cell_type": "code",
   "execution_count": 15,
   "id": "917a9736",
   "metadata": {},
   "outputs": [
    {
     "data": {
      "text/plain": [
       "153.134407913983"
      ]
     },
     "execution_count": 15,
     "metadata": {},
     "output_type": "execute_result"
    }
   ],
   "source": [
    "lr.intercept_"
   ]
  },
  {
   "cell_type": "code",
   "execution_count": 16,
   "id": "97e0fe24",
   "metadata": {},
   "outputs": [
    {
     "data": {
      "text/plain": [
       "<matplotlib.collections.PathCollection at 0x22d052cc5e0>"
      ]
     },
     "execution_count": 16,
     "metadata": {},
     "output_type": "execute_result"
    },
    {
     "data": {
      "image/png": "[encoded data removed]",
      "text/plain": [
       "<Figure size 640x480 with 1 Axes>"
      ]
     },
     "metadata": {},
     "output_type": "display_data"
    }
   ],
   "source": [
    "plt.scatter(X[:, 1], y)"
   ]
  },
  {
   "cell_type": "markdown",
   "id": "63748019",
   "metadata": {},
   "source": [
    "# Making our own Linear Regression Class"
   ]
  },
  {
   "cell_type": "code",
   "execution_count": 22,
   "id": "10829aec",
   "metadata": {},
   "outputs": [],
   "source": [
    "class MineLR:\n",
    "    def __init__(self):\n",
    "        self.coef_ = None\n",
    "        self.intercept_ = None\n",
    "    \n",
    "    def fit(self, X_train,y_train):\n",
    "        X_train = np.insert(X_train,0,1,axis=1)\n",
    "        print(X_train)\n",
    "        print(f\"Shape of y train is {y_train.shape}\")\n",
    "        betas = np.linalg.inv(np.dot(X_train.T, X_train)).dot(X_train.T).dot(y_train)\n",
    "        self.intercept_ = betas[0]\n",
    "        self.coef_ = betas[1:]\n",
    "        print(f\"Intercept value is : {self.intercept_}\")\n",
    "        print(self.coef_)\n",
    "        \n",
    "    def predict(self, X_test):\n",
    "        \n",
    "        y_prediction  = np.dot(X_test, self.coef_) + self.intercept_\n",
    "        return y_prediction\n",
    "        \n",
    "    "
   ]
  },
  {
   "cell_type": "code",
   "execution_count": 23,
   "id": "9e29130f",
   "metadata": {},
   "outputs": [],
   "source": [
    "LR = MineLR()"
   ]
  },
  {
   "cell_type": "code",
   "execution_count": 24,
   "id": "b8d86b9c",
   "metadata": {},
   "outputs": [
    {
     "name": "stdout",
     "output_type": "stream",
     "text": [
      "[[ 1.          0.06713621 -0.04464164 ... -0.03949338 -0.05615757\n",
      "  -0.05906719]\n",
      " [ 1.         -0.05273755 -0.04464164 ... -0.00259226 -0.02712865\n",
      "  -0.05078298]\n",
      " [ 1.         -0.05273755 -0.04464164 ...  0.03430886  0.13237265\n",
      "   0.00306441]\n",
      " ...\n",
      " [ 1.         -0.01277963 -0.04464164 ...  0.03430886  0.0702113\n",
      "   0.00720652]\n",
      " [ 1.         -0.03457486  0.05068012 ...  0.1081111   0.02671426\n",
      "   0.07348023]\n",
      " [ 1.          0.01991321  0.05068012 ... -0.00259226  0.00371174\n",
      "   0.04034337]]\n",
      "Shape of y train is (353,)\n",
      "Intercept value is : 153.134407913983\n",
      "[  -1.14038088 -212.89206427  540.44935027  345.2118465  -938.28898069\n",
      "  516.66033395  172.87732879  267.87781462  732.6600272    70.07479382]\n"
     ]
    }
   ],
   "source": [
    "LR.fit(X_train, y_train)"
   ]
  },
  {
   "cell_type": "code",
   "execution_count": 43,
   "id": "2745c24b",
   "metadata": {},
   "outputs": [],
   "source": [
    "y_prediction = lr.predict(X_test)"
   ]
  },
  {
   "cell_type": "code",
   "execution_count": 44,
   "id": "43628bc7",
   "metadata": {},
   "outputs": [
    {
     "data": {
      "text/plain": [
       "array([[ 0.06713621, -0.04464164, -0.06117437, ..., -0.03949338,\n",
       "        -0.05615757, -0.05906719],\n",
       "       [-0.05273755, -0.04464164, -0.01267283, ..., -0.00259226,\n",
       "        -0.02712865, -0.05078298],\n",
       "       [-0.05273755, -0.04464164, -0.05578531, ...,  0.03430886,\n",
       "         0.13237265,  0.00306441],\n",
       "       ...,\n",
       "       [-0.01277963, -0.04464164,  0.06061839, ...,  0.03430886,\n",
       "         0.0702113 ,  0.00720652],\n",
       "       [-0.03457486,  0.05068012, -0.00081689, ...,  0.1081111 ,\n",
       "         0.02671426,  0.07348023],\n",
       "       [ 0.01991321,  0.05068012,  0.10480869, ..., -0.00259226,\n",
       "         0.00371174,  0.04034337]])"
      ]
     },
     "execution_count": 44,
     "metadata": {},
     "output_type": "execute_result"
    }
   ],
   "source": [
    "X_train"
   ]
  },
  {
   "cell_type": "code",
   "execution_count": 45,
   "id": "3f13f87e",
   "metadata": {},
   "outputs": [
    {
     "data": {
      "text/plain": [
       "0.416174330392582"
      ]
     },
     "execution_count": 45,
     "metadata": {},
     "output_type": "execute_result"
    }
   ],
   "source": [
    "r2_score(y_test,y_prediction)"
   ]
  },
  {
   "cell_type": "code",
   "execution_count": 26,
   "id": "dac2a32e",
   "metadata": {},
   "outputs": [],
   "source": [
    "ls = [[2, 9, 6]]"
   ]
  },
  {
   "cell_type": "code",
   "execution_count": 27,
   "id": "8492d87d",
   "metadata": {},
   "outputs": [
    {
     "ename": "AttributeError",
     "evalue": "'list' object has no attribute 'shape'",
     "output_type": "error",
     "traceback": [
      "\u001b[1;31m---------------------------------------------------------------------------\u001b[0m",
      "\u001b[1;31mAttributeError\u001b[0m                            Traceback (most recent call last)",
      "\u001b[1;32m~\\AppData\\Local\\Temp\\ipykernel_9468\\471477010.py\u001b[0m in \u001b[0;36m<module>\u001b[1;34m\u001b[0m\n\u001b[1;32m----> 1\u001b[1;33m \u001b[0mls\u001b[0m\u001b[1;33m.\u001b[0m\u001b[0mshape\u001b[0m\u001b[1;33m\u001b[0m\u001b[1;33m\u001b[0m\u001b[0m\n\u001b[0m",
      "\u001b[1;31mAttributeError\u001b[0m: 'list' object has no attribute 'shape'"
     ]
    }
   ],
   "source": []
  },
  {
   "cell_type": "code",
   "execution_count": null,
   "id": "bbef3aba",
   "metadata": {},
   "outputs": [],
   "source": []
  }
 ],
 "metadata": {
  "kernelspec": {
   "display_name": "Python 3 (ipykernel)",
   "language": "python",
   "name": "python3"
  },
  "language_info": {
   "codemirror_mode": {
    "name": "ipython",
    "version": 3
   },
   "file_extension": ".py",
   "mimetype": "text/x-python",
   "name": "python",
   "nbconvert_exporter": "python",
   "pygments_lexer": "ipython3",
   "version": "3.9.13"
  }
 },
 "nbformat": 4,
 "nbformat_minor": 5
}
