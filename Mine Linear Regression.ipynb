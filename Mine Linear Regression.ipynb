{
 "cells": [
  {
   "cell_type": "code",
   "execution_count": 27,
   "id": "c0fbebf4",
   "metadata": {},
   "outputs": [
    {
     "name": "stdout",
     "output_type": "stream",
     "text": [
      "(37,)\n"
     ]
    },
    {
     "data": {
      "text/plain": [
       "1972"
      ]
     },
     "execution_count": 27,
     "metadata": {},
     "output_type": "execute_result"
    }
   ],
   "source": [
    "# -*- coding: utf-8 -*-\n",
    "\"\"\"\n",
    "Created on Sun Feb 12 11:06:35 2023\n",
    "\n",
    "@author: Dictator\n",
    "\"\"\"\n",
    "\n",
    "import numpy as np\n",
    "import pandas as pd\n",
    "import matplotlib.pyplot as plt\n",
    "from sklearn.model_selection import train_test_split\n",
    "\n",
    "class MineLR:\n",
    "    \n",
    "    def __init__(self):\n",
    "        self.m = None\n",
    "        self.b = None\n",
    "    \n",
    "    def fit(self, X_train, y_train):\n",
    "        numerator = 0.0\n",
    "        denominator = 0.0\n",
    "        iterations = X_train.shape[0]\n",
    "        for i in range(iterations):\n",
    "            numerator += (X_train.iloc[i] - np.mean(X_train)) * (y_train.iloc[i] - np.mean(y_train))\n",
    "            denominator += ((X_train.iloc[i] - np.mean(X_train)) * (X_train.iloc[i] - np.mean(X_train)))\n",
    "        \n",
    "        self.m = numerator/denominator\n",
    "        self.b = np.mean(y_train) - (self.m*np.mean(X_train))\n",
    "        print(X_train.shape)\n",
    "        pass\n",
    "    \n",
    "    def predict(self, X_test):\n",
    "        y_pred = []\n",
    "        for i in X_test:\n",
    "            y_pred.append(self.m*i + self.b)\n",
    "        return y_pred\n",
    "        pass\n",
    "\n",
    "df = pd.read_csv(r\"E:\\Subhan Folder\\canada_per_capita_income.csv\", names=['Year', 'PerCapita_Income'])\n",
    "X = df.iloc[:,0]\n",
    "y= df.iloc[:,-1]\n",
    "\n",
    "X_train, X_test, y_train, y_test = train_test_split(X, y, test_size=0.2, random_state=2)\n",
    "LR = MineLR()\n",
    "LR.fit(X_train, y_train)\n",
    "X_train.iloc[0]\n"
   ]
  },
  {
   "cell_type": "code",
   "execution_count": 28,
   "id": "8b9b6dd9",
   "metadata": {},
   "outputs": [
    {
     "data": {
      "text/plain": [
       "[18602.90731471544,\n",
       " 9836.602295999648,\n",
       " 33744.70689249737,\n",
       " 13024.3495755326,\n",
       " 28166.14915331453,\n",
       " 34541.64371238067,\n",
       " 36135.51735214703,\n",
       " 10633.539115882944,\n",
       " 11430.475935766008,\n",
       " 273.3604574005585]"
      ]
     },
     "execution_count": 28,
     "metadata": {},
     "output_type": "execute_result"
    }
   ],
   "source": [
    "LR.predict(X_test)"
   ]
  },
  {
   "cell_type": "code",
   "execution_count": 29,
   "id": "9b3d5df2",
   "metadata": {},
   "outputs": [
    {
     "data": {
      "text/plain": [
       "1993"
      ]
     },
     "execution_count": 29,
     "metadata": {},
     "output_type": "execute_result"
    }
   ],
   "source": [
    "X_test.iloc[0]"
   ]
  },
  {
   "cell_type": "code",
   "execution_count": 30,
   "id": "37b375a1",
   "metadata": {},
   "outputs": [
    {
     "data": {
      "text/plain": [
       "[40120.20145156351]"
      ]
     },
     "execution_count": 30,
     "metadata": {},
     "output_type": "execute_result"
    }
   ],
   "source": [
    "LR.predict([2020])"
   ]
  },
  {
   "cell_type": "code",
   "execution_count": 31,
   "id": "9ec45296",
   "metadata": {},
   "outputs": [
    {
     "data": {
      "text/plain": [
       "array([1., 1., 1., 1., 1., 1., 1., 1., 1., 1., 1., 1., 1., 1., 1., 1., 1.,\n",
       "       1., 1., 1., 1., 1., 1., 1., 1., 1., 1., 1., 1., 1., 1., 1., 1., 1.,\n",
       "       1., 1., 1.])"
      ]
     },
     "execution_count": 31,
     "metadata": {},
     "output_type": "execute_result"
    }
   ],
   "source": [
    "np.ones(X_train.shape[0])"
   ]
  },
  {
   "cell_type": "code",
   "execution_count": 32,
   "id": "37358960",
   "metadata": {},
   "outputs": [
    {
     "data": {
      "text/plain": [
       "2     1972\n",
       "9     1979\n",
       "17    1987\n",
       "30    2000\n",
       "25    1995\n",
       "44    2014\n",
       "29    1999\n",
       "27    1997\n",
       "1     1971\n",
       "24    1994\n",
       "33    2003\n",
       "38    2008\n",
       "19    1989\n",
       "36    2006\n",
       "10    1980\n",
       "4     1974\n",
       "6     1976\n",
       "3     1973\n",
       "39    2009\n",
       "5     1975\n",
       "32    2002\n",
       "28    1998\n",
       "20    1990\n",
       "26    1996\n",
       "37    2007\n",
       "21    1991\n",
       "41    2011\n",
       "31    2001\n",
       "34    2004\n",
       "7     1977\n",
       "46    2016\n",
       "11    1981\n",
       "18    1988\n",
       "22    1992\n",
       "8     1978\n",
       "15    1985\n",
       "40    2010\n",
       "Name: Year, dtype: int64"
      ]
     },
     "execution_count": 32,
     "metadata": {},
     "output_type": "execute_result"
    }
   ],
   "source": [
    "X_train"
   ]
  },
  {
   "cell_type": "code",
   "execution_count": 36,
   "id": "05d39de9",
   "metadata": {},
   "outputs": [],
   "source": [
    "ones = np.ones(X_train.shape[0])"
   ]
  },
  {
   "cell_type": "code",
   "execution_count": 44,
   "id": "caca319d",
   "metadata": {},
   "outputs": [
    {
     "name": "stderr",
     "output_type": "stream",
     "text": [
      "C:\\Users\\Dictator\\AppData\\Local\\Temp\\ipykernel_15576\\1125232780.py:2: FutureWarning: Support for multi-dimensional indexing (e.g. `obj[:, None]`) is deprecated and will be removed in a future version.  Convert to a numpy array before indexing instead.\n",
      "  X_train = X_train[:, np.newaxis]\n"
     ]
    }
   ],
   "source": [
    "ones = ones[:, np.newaxis]\n",
    "X_train = X_train[:, np.newaxis]"
   ]
  },
  {
   "cell_type": "code",
   "execution_count": 45,
   "id": "5aa7a56a",
   "metadata": {},
   "outputs": [
    {
     "data": {
      "text/plain": [
       "(37, 1)"
      ]
     },
     "execution_count": 45,
     "metadata": {},
     "output_type": "execute_result"
    }
   ],
   "source": [
    "ones.shape"
   ]
  },
  {
   "cell_type": "code",
   "execution_count": 49,
   "id": "c638da2a",
   "metadata": {},
   "outputs": [],
   "source": [
    "n = np.hstack((ones, X_train))"
   ]
  },
  {
   "cell_type": "code",
   "execution_count": 50,
   "id": "438c881d",
   "metadata": {},
   "outputs": [
    {
     "data": {
      "text/plain": [
       "(37, 2)"
      ]
     },
     "execution_count": 50,
     "metadata": {},
     "output_type": "execute_result"
    }
   ],
   "source": [
    "n.shape"
   ]
  },
  {
   "cell_type": "code",
   "execution_count": 51,
   "id": "6fa95d65",
   "metadata": {},
   "outputs": [
    {
     "data": {
      "text/plain": [
       "array([[1.000e+00, 1.972e+03],\n",
       "       [1.000e+00, 1.979e+03],\n",
       "       [1.000e+00, 1.987e+03],\n",
       "       [1.000e+00, 2.000e+03],\n",
       "       [1.000e+00, 1.995e+03],\n",
       "       [1.000e+00, 2.014e+03],\n",
       "       [1.000e+00, 1.999e+03],\n",
       "       [1.000e+00, 1.997e+03],\n",
       "       [1.000e+00, 1.971e+03],\n",
       "       [1.000e+00, 1.994e+03],\n",
       "       [1.000e+00, 2.003e+03],\n",
       "       [1.000e+00, 2.008e+03],\n",
       "       [1.000e+00, 1.989e+03],\n",
       "       [1.000e+00, 2.006e+03],\n",
       "       [1.000e+00, 1.980e+03],\n",
       "       [1.000e+00, 1.974e+03],\n",
       "       [1.000e+00, 1.976e+03],\n",
       "       [1.000e+00, 1.973e+03],\n",
       "       [1.000e+00, 2.009e+03],\n",
       "       [1.000e+00, 1.975e+03],\n",
       "       [1.000e+00, 2.002e+03],\n",
       "       [1.000e+00, 1.998e+03],\n",
       "       [1.000e+00, 1.990e+03],\n",
       "       [1.000e+00, 1.996e+03],\n",
       "       [1.000e+00, 2.007e+03],\n",
       "       [1.000e+00, 1.991e+03],\n",
       "       [1.000e+00, 2.011e+03],\n",
       "       [1.000e+00, 2.001e+03],\n",
       "       [1.000e+00, 2.004e+03],\n",
       "       [1.000e+00, 1.977e+03],\n",
       "       [1.000e+00, 2.016e+03],\n",
       "       [1.000e+00, 1.981e+03],\n",
       "       [1.000e+00, 1.988e+03],\n",
       "       [1.000e+00, 1.992e+03],\n",
       "       [1.000e+00, 1.978e+03],\n",
       "       [1.000e+00, 1.985e+03],\n",
       "       [1.000e+00, 2.010e+03]])"
      ]
     },
     "execution_count": 51,
     "metadata": {},
     "output_type": "execute_result"
    }
   ],
   "source": [
    "n"
   ]
  },
  {
   "cell_type": "code",
   "execution_count": 52,
   "id": "78680a10",
   "metadata": {},
   "outputs": [],
   "source": [
    "n = np.insert(n, 0, 1, axis=1)"
   ]
  },
  {
   "cell_type": "code",
   "execution_count": 53,
   "id": "76c445c5",
   "metadata": {},
   "outputs": [
    {
     "data": {
      "text/plain": [
       "array([[1.000e+00, 1.000e+00, 1.972e+03],\n",
       "       [1.000e+00, 1.000e+00, 1.979e+03],\n",
       "       [1.000e+00, 1.000e+00, 1.987e+03],\n",
       "       [1.000e+00, 1.000e+00, 2.000e+03],\n",
       "       [1.000e+00, 1.000e+00, 1.995e+03],\n",
       "       [1.000e+00, 1.000e+00, 2.014e+03],\n",
       "       [1.000e+00, 1.000e+00, 1.999e+03],\n",
       "       [1.000e+00, 1.000e+00, 1.997e+03],\n",
       "       [1.000e+00, 1.000e+00, 1.971e+03],\n",
       "       [1.000e+00, 1.000e+00, 1.994e+03],\n",
       "       [1.000e+00, 1.000e+00, 2.003e+03],\n",
       "       [1.000e+00, 1.000e+00, 2.008e+03],\n",
       "       [1.000e+00, 1.000e+00, 1.989e+03],\n",
       "       [1.000e+00, 1.000e+00, 2.006e+03],\n",
       "       [1.000e+00, 1.000e+00, 1.980e+03],\n",
       "       [1.000e+00, 1.000e+00, 1.974e+03],\n",
       "       [1.000e+00, 1.000e+00, 1.976e+03],\n",
       "       [1.000e+00, 1.000e+00, 1.973e+03],\n",
       "       [1.000e+00, 1.000e+00, 2.009e+03],\n",
       "       [1.000e+00, 1.000e+00, 1.975e+03],\n",
       "       [1.000e+00, 1.000e+00, 2.002e+03],\n",
       "       [1.000e+00, 1.000e+00, 1.998e+03],\n",
       "       [1.000e+00, 1.000e+00, 1.990e+03],\n",
       "       [1.000e+00, 1.000e+00, 1.996e+03],\n",
       "       [1.000e+00, 1.000e+00, 2.007e+03],\n",
       "       [1.000e+00, 1.000e+00, 1.991e+03],\n",
       "       [1.000e+00, 1.000e+00, 2.011e+03],\n",
       "       [1.000e+00, 1.000e+00, 2.001e+03],\n",
       "       [1.000e+00, 1.000e+00, 2.004e+03],\n",
       "       [1.000e+00, 1.000e+00, 1.977e+03],\n",
       "       [1.000e+00, 1.000e+00, 2.016e+03],\n",
       "       [1.000e+00, 1.000e+00, 1.981e+03],\n",
       "       [1.000e+00, 1.000e+00, 1.988e+03],\n",
       "       [1.000e+00, 1.000e+00, 1.992e+03],\n",
       "       [1.000e+00, 1.000e+00, 1.978e+03],\n",
       "       [1.000e+00, 1.000e+00, 1.985e+03],\n",
       "       [1.000e+00, 1.000e+00, 2.010e+03]])"
      ]
     },
     "execution_count": 53,
     "metadata": {},
     "output_type": "execute_result"
    }
   ],
   "source": [
    "n"
   ]
  },
  {
   "cell_type": "code",
   "execution_count": null,
   "id": "6ecb8d73",
   "metadata": {},
   "outputs": [],
   "source": []
  }
 ],
 "metadata": {
  "kernelspec": {
   "display_name": "Python 3 (ipykernel)",
   "language": "python",
   "name": "python3"
  },
  "language_info": {
   "codemirror_mode": {
    "name": "ipython",
    "version": 3
   },
   "file_extension": ".py",
   "mimetype": "text/x-python",
   "name": "python",
   "nbconvert_exporter": "python",
   "pygments_lexer": "ipython3",
   "version": "3.9.13"
  }
 },
 "nbformat": 4,
 "nbformat_minor": 5
}
